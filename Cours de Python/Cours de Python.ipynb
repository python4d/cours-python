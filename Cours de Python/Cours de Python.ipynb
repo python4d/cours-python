{
 "cells": [
  {
   "cell_type": "markdown",
   "metadata": {},
   "source": [
    "# Cours de Python pour luc les mercredi de 14h à 16 h\n"
   ]
  },
  {
   "cell_type": "markdown",
   "metadata": {},
   "source": [
    "## 30 novembre 2016\n",
    "Expliquer la récursivité avec Leonardo Fibonacci\n",
    "Rappel => fibonacci(0)=0, fibonacci(1)=1, fibonacci(2)=0+1, fibonacci(3)=0+1+2, ...\n",
    "Faire une fonction pour calculer la suite de fibonacci def f(nb)\n",
    "en utilisant une boucle \n",
    "en utilisant la récursivité parce que f(n)=f(n-1)+f(n-2)\n"
   ]
  },
  {
   "cell_type": "code",
   "execution_count": 7,
   "metadata": {
    "collapsed": false
   },
   "outputs": [
    {
     "name": "stdout",
     "output_type": "stream",
     "text": [
      "[0, 1, 1, 2, 3, 5, 8, 13, 21, 34, 55, 89, 144, 233, 377, 610, 987, 1597, 2584, 4181, 6765, 10946]\n"
     ]
    }
   ],
   "source": [
    "def fibonacci(nb):\n",
    "    a,b=0,1\n",
    "    for i in range(nb):\n",
    "        a,b=b,a+b\n",
    "    return a\n",
    "\n",
    "print ([fibonacci(r) for r in range(22)])\n",
    "        \n",
    "        "
   ]
  },
  {
   "cell_type": "code",
   "execution_count": null,
   "metadata": {
    "collapsed": false
   },
   "outputs": [],
   "source": [
    "def fibonacci(nb):\n",
    "    if nb<2:\n",
    "        return nb\n",
    "    else:\n",
    "        return fibonacci(nb-1)+fibonacci(nb-2)\n",
    "    \n",
    "print ([fibonacci(r) for r in range(50)])"
   ]
  },
  {
   "cell_type": "markdown",
   "metadata": {},
   "source": [
    "Example de graphics turtle de la suite de fibonacci"
   ]
  },
  {
   "cell_type": "code",
   "execution_count": null,
   "metadata": {
    "collapsed": false
   },
   "outputs": [],
   "source": [
    "from turtle import *\n",
    "def fibonacci(nb):\n",
    "    if nb<2:\n",
    "        return nb\n",
    "    else:\n",
    "        return fibonacci(nb-1)+fibonacci(nb-2)\n",
    "\n",
    "for i in [fibonacci(r) for r in range(100)]:\n",
    "    print (i)\n",
    "    forward(int(i/10))\n",
    "    left(90)"
   ]
  },
  {
   "cell_type": "code",
   "execution_count": null,
   "metadata": {
    "collapsed": true
   },
   "outputs": [],
   "source": []
  }
 ],
 "metadata": {
  "anaconda-cloud": {},
  "kernelspec": {
   "display_name": "Python [default]",
   "language": "python",
   "name": "python3"
  },
  "language_info": {
   "codemirror_mode": {
    "name": "ipython",
    "version": 3
   },
   "file_extension": ".py",
   "mimetype": "text/x-python",
   "name": "python",
   "nbconvert_exporter": "python",
   "pygments_lexer": "ipython3",
   "version": "3.5.2"
  }
 },
 "nbformat": 4,
 "nbformat_minor": 1
}
